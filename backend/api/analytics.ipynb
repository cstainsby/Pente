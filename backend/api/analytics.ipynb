{
 "cells": [
  {
   "attachments": {},
   "cell_type": "markdown",
   "metadata": {},
   "source": [
    "# Analytics\n",
    "This file will serve the purpose of viewing the database at a high level. The Pente Database object will contain standard analytics questions which will be queried by this file and printed in an easy to read way."
   ]
  },
  {
   "attachments": {},
   "cell_type": "markdown",
   "metadata": {},
   "source": [
    "### Imports\n",
    "Include the database object and instantiate it"
   ]
  },
  {
   "cell_type": "code",
   "execution_count": 6,
   "metadata": {},
   "outputs": [
    {
     "data": {
      "text/plain": [
       "<module 'database' from '/home/cstainsby/class/dataProj/Pente/backend/database.py'>"
      ]
     },
     "execution_count": 6,
     "metadata": {},
     "output_type": "execute_result"
    }
   ],
   "source": [
    "import importlib \n",
    "import database\n",
    "\n",
    "importlib.reload(database)"
   ]
  },
  {
   "cell_type": "code",
   "execution_count": 7,
   "metadata": {},
   "outputs": [],
   "source": [
    "db = database.PenteDatabase()"
   ]
  },
  {
   "attachments": {},
   "cell_type": "markdown",
   "metadata": {},
   "source": [
    "## Table Design\n",
    "A list of all tables which are used within this program\n",
    "\n",
    "#### PenteGame\n",
    "| attr | type |\n",
    "| :--: | :--: |\n",
    "| game_id | INT |\n",
    "| grid_length| INT |\n",
    "\n",
    "#### PlayerType\n",
    "| attr | type |\n",
    "| :--: | :--: |\n",
    "| player_type | CHAR(20) |\n",
    "\n",
    "#### PlayersList\n",
    "| attr | type |\n",
    "| :--: | :--: |\n",
    "| game_id | INT |\n",
    "| player_num | INT |\n",
    "| player_type | CHAR(20) |\n",
    "\n",
    "#### GameWins\n",
    "| attr | type |\n",
    "| :--: | :--: |\n",
    "| game_id | INT |\n",
    "| player_num | INT |\n",
    "\n",
    "#### Placements\n",
    "| attr | type |\n",
    "| :--: | :--: |\n",
    "| game_id | INT |\n",
    "| place_num | INT | \n",
    "| player_num | INT |\n",
    "| place_x | INT |\n",
    "| place_y | INT |\n",
    "\n",
    "\n",
    "#### Captures\n",
    "| attr | type |\n",
    "| :--: | :--: |\n",
    "| game_id | INT |\n",
    "| cap_num | INT |\n",
    "| capturing_place_num | INT |\n",
    "| cap_direction | INT [0,8) |"
   ]
  },
  {
   "cell_type": "code",
   "execution_count": 8,
   "metadata": {},
   "outputs": [
    {
     "name": "stdout",
     "output_type": "stream",
     "text": [
      "current number of games stored: 0\n"
     ]
    }
   ],
   "source": [
    "print(\"current number of games stored:\", db.get_number_of_games_played())"
   ]
  },
  {
   "cell_type": "code",
   "execution_count": 9,
   "metadata": {},
   "outputs": [
    {
     "name": "stdout",
     "output_type": "stream",
     "text": [
      "total wins by player type: 0\n",
      "total wins by ai type: 0\n",
      "total wins by random type: 0\n"
     ]
    }
   ],
   "source": [
    "print(\"total wins by player type:\", db.get_number_of_wins_by_player_type(\"PLAYER\"))\n",
    "print(\"total wins by ai type:\", db.get_number_of_wins_by_player_type(\"AI\"))\n",
    "print(\"total wins by random type:\", db.get_number_of_wins_by_player_type(\"RANDOM\"))"
   ]
  }
 ],
 "metadata": {
  "kernelspec": {
   "display_name": "Python 3",
   "language": "python",
   "name": "python3"
  },
  "language_info": {
   "codemirror_mode": {
    "name": "ipython",
    "version": 3
   },
   "file_extension": ".py",
   "mimetype": "text/x-python",
   "name": "python",
   "nbconvert_exporter": "python",
   "pygments_lexer": "ipython3",
   "version": "3.8.10"
  },
  "orig_nbformat": 4,
  "vscode": {
   "interpreter": {
    "hash": "916dbcbb3f70747c44a77c7bcd40155683ae19c65e1c03b4aa3499c5328201f1"
   }
  }
 },
 "nbformat": 4,
 "nbformat_minor": 2
}
